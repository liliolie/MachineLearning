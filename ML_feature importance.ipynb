{
 "cells": [
  {
   "cell_type": "markdown",
   "id": "reduced-construction",
   "metadata": {},
   "source": [
    "# Imports"
   ]
  },
  {
   "cell_type": "code",
   "execution_count": 67,
   "id": "hairy-enhancement",
   "metadata": {},
   "outputs": [],
   "source": [
    "import numpy as np\n",
    "import pandas as pd\n",
    "import pandas as pd\n",
    "import matplotlib.pyplot as plt\n",
    "from sklearn.model_selection import train_test_split, GridSearchCV\n",
    "from sklearn.linear_model import LogisticRegression\n",
    "from sklearn.tree import DecisionTreeClassifier\n",
    "from sklearn.ensemble import GradientBoostingClassifier\n",
    "from sklearn.metrics import accuracy_score\n",
    "from sklearn.preprocessing import StandardScaler\n",
    "from sklearn.metrics import confusion_matrix"
   ]
  },
  {
   "cell_type": "markdown",
   "id": "photographic-house",
   "metadata": {},
   "source": [
    "# Load and Prepare Dataset"
   ]
  },
  {
   "cell_type": "code",
   "execution_count": 68,
   "id": "familiar-stanford",
   "metadata": {},
   "outputs": [
    {
     "data": {
      "text/html": [
       "<div>\n",
       "<style scoped>\n",
       "    .dataframe tbody tr th:only-of-type {\n",
       "        vertical-align: middle;\n",
       "    }\n",
       "\n",
       "    .dataframe tbody tr th {\n",
       "        vertical-align: top;\n",
       "    }\n",
       "\n",
       "    .dataframe thead th {\n",
       "        text-align: right;\n",
       "    }\n",
       "</style>\n",
       "<table border=\"1\" class=\"dataframe\">\n",
       "  <thead>\n",
       "    <tr style=\"text-align: right;\">\n",
       "      <th></th>\n",
       "      <th>A1</th>\n",
       "      <th>gender_”1”</th>\n",
       "      <th>gender_”2”</th>\n",
       "      <th>edu_1</th>\n",
       "      <th>edu_2</th>\n",
       "      <th>edu_3</th>\n",
       "      <th>age_1.0</th>\n",
       "      <th>age_2.0</th>\n",
       "      <th>age_3.0</th>\n",
       "      <th>age_4.0</th>\n",
       "      <th>income_1</th>\n",
       "      <th>income_2</th>\n",
       "      <th>income_3</th>\n",
       "      <th>income_4</th>\n",
       "    </tr>\n",
       "  </thead>\n",
       "  <tbody>\n",
       "    <tr>\n",
       "      <th>0</th>\n",
       "      <td>1</td>\n",
       "      <td>0</td>\n",
       "      <td>1</td>\n",
       "      <td>1</td>\n",
       "      <td>0</td>\n",
       "      <td>0</td>\n",
       "      <td>0</td>\n",
       "      <td>0</td>\n",
       "      <td>0</td>\n",
       "      <td>1</td>\n",
       "      <td>0</td>\n",
       "      <td>1</td>\n",
       "      <td>0</td>\n",
       "      <td>0</td>\n",
       "    </tr>\n",
       "    <tr>\n",
       "      <th>1</th>\n",
       "      <td>1</td>\n",
       "      <td>0</td>\n",
       "      <td>1</td>\n",
       "      <td>1</td>\n",
       "      <td>0</td>\n",
       "      <td>0</td>\n",
       "      <td>0</td>\n",
       "      <td>0</td>\n",
       "      <td>0</td>\n",
       "      <td>1</td>\n",
       "      <td>0</td>\n",
       "      <td>1</td>\n",
       "      <td>0</td>\n",
       "      <td>0</td>\n",
       "    </tr>\n",
       "    <tr>\n",
       "      <th>2</th>\n",
       "      <td>2</td>\n",
       "      <td>1</td>\n",
       "      <td>0</td>\n",
       "      <td>0</td>\n",
       "      <td>1</td>\n",
       "      <td>0</td>\n",
       "      <td>0</td>\n",
       "      <td>1</td>\n",
       "      <td>0</td>\n",
       "      <td>0</td>\n",
       "      <td>0</td>\n",
       "      <td>1</td>\n",
       "      <td>0</td>\n",
       "      <td>0</td>\n",
       "    </tr>\n",
       "    <tr>\n",
       "      <th>3</th>\n",
       "      <td>1</td>\n",
       "      <td>0</td>\n",
       "      <td>1</td>\n",
       "      <td>0</td>\n",
       "      <td>1</td>\n",
       "      <td>0</td>\n",
       "      <td>0</td>\n",
       "      <td>0</td>\n",
       "      <td>0</td>\n",
       "      <td>1</td>\n",
       "      <td>0</td>\n",
       "      <td>1</td>\n",
       "      <td>0</td>\n",
       "      <td>0</td>\n",
       "    </tr>\n",
       "    <tr>\n",
       "      <th>4</th>\n",
       "      <td>1</td>\n",
       "      <td>1</td>\n",
       "      <td>0</td>\n",
       "      <td>0</td>\n",
       "      <td>1</td>\n",
       "      <td>0</td>\n",
       "      <td>0</td>\n",
       "      <td>0</td>\n",
       "      <td>0</td>\n",
       "      <td>1</td>\n",
       "      <td>1</td>\n",
       "      <td>0</td>\n",
       "      <td>0</td>\n",
       "      <td>0</td>\n",
       "    </tr>\n",
       "    <tr>\n",
       "      <th>...</th>\n",
       "      <td>...</td>\n",
       "      <td>...</td>\n",
       "      <td>...</td>\n",
       "      <td>...</td>\n",
       "      <td>...</td>\n",
       "      <td>...</td>\n",
       "      <td>...</td>\n",
       "      <td>...</td>\n",
       "      <td>...</td>\n",
       "      <td>...</td>\n",
       "      <td>...</td>\n",
       "      <td>...</td>\n",
       "      <td>...</td>\n",
       "      <td>...</td>\n",
       "    </tr>\n",
       "    <tr>\n",
       "      <th>2947</th>\n",
       "      <td>1</td>\n",
       "      <td>0</td>\n",
       "      <td>1</td>\n",
       "      <td>0</td>\n",
       "      <td>1</td>\n",
       "      <td>0</td>\n",
       "      <td>0</td>\n",
       "      <td>0</td>\n",
       "      <td>1</td>\n",
       "      <td>0</td>\n",
       "      <td>0</td>\n",
       "      <td>1</td>\n",
       "      <td>0</td>\n",
       "      <td>0</td>\n",
       "    </tr>\n",
       "    <tr>\n",
       "      <th>2948</th>\n",
       "      <td>1</td>\n",
       "      <td>1</td>\n",
       "      <td>0</td>\n",
       "      <td>1</td>\n",
       "      <td>0</td>\n",
       "      <td>0</td>\n",
       "      <td>0</td>\n",
       "      <td>1</td>\n",
       "      <td>0</td>\n",
       "      <td>0</td>\n",
       "      <td>1</td>\n",
       "      <td>0</td>\n",
       "      <td>0</td>\n",
       "      <td>0</td>\n",
       "    </tr>\n",
       "    <tr>\n",
       "      <th>2949</th>\n",
       "      <td>1</td>\n",
       "      <td>0</td>\n",
       "      <td>1</td>\n",
       "      <td>1</td>\n",
       "      <td>0</td>\n",
       "      <td>0</td>\n",
       "      <td>1</td>\n",
       "      <td>0</td>\n",
       "      <td>0</td>\n",
       "      <td>0</td>\n",
       "      <td>0</td>\n",
       "      <td>1</td>\n",
       "      <td>0</td>\n",
       "      <td>0</td>\n",
       "    </tr>\n",
       "    <tr>\n",
       "      <th>2950</th>\n",
       "      <td>1</td>\n",
       "      <td>1</td>\n",
       "      <td>0</td>\n",
       "      <td>1</td>\n",
       "      <td>0</td>\n",
       "      <td>0</td>\n",
       "      <td>0</td>\n",
       "      <td>1</td>\n",
       "      <td>0</td>\n",
       "      <td>0</td>\n",
       "      <td>1</td>\n",
       "      <td>0</td>\n",
       "      <td>0</td>\n",
       "      <td>0</td>\n",
       "    </tr>\n",
       "    <tr>\n",
       "      <th>2951</th>\n",
       "      <td>2</td>\n",
       "      <td>1</td>\n",
       "      <td>0</td>\n",
       "      <td>0</td>\n",
       "      <td>1</td>\n",
       "      <td>0</td>\n",
       "      <td>0</td>\n",
       "      <td>0</td>\n",
       "      <td>1</td>\n",
       "      <td>0</td>\n",
       "      <td>0</td>\n",
       "      <td>1</td>\n",
       "      <td>0</td>\n",
       "      <td>0</td>\n",
       "    </tr>\n",
       "  </tbody>\n",
       "</table>\n",
       "<p>2942 rows × 14 columns</p>\n",
       "</div>"
      ],
      "text/plain": [
       "      A1  gender_”1”  gender_”2”  edu_1  edu_2  edu_3  age_1.0  age_2.0  \\\n",
       "0      1           0           1      1      0      0        0        0   \n",
       "1      1           0           1      1      0      0        0        0   \n",
       "2      2           1           0      0      1      0        0        1   \n",
       "3      1           0           1      0      1      0        0        0   \n",
       "4      1           1           0      0      1      0        0        0   \n",
       "...   ..         ...         ...    ...    ...    ...      ...      ...   \n",
       "2947   1           0           1      0      1      0        0        0   \n",
       "2948   1           1           0      1      0      0        0        1   \n",
       "2949   1           0           1      1      0      0        1        0   \n",
       "2950   1           1           0      1      0      0        0        1   \n",
       "2951   2           1           0      0      1      0        0        0   \n",
       "\n",
       "      age_3.0  age_4.0  income_1  income_2  income_3  income_4  \n",
       "0           0        1         0         1         0         0  \n",
       "1           0        1         0         1         0         0  \n",
       "2           0        0         0         1         0         0  \n",
       "3           0        1         0         1         0         0  \n",
       "4           0        1         1         0         0         0  \n",
       "...       ...      ...       ...       ...       ...       ...  \n",
       "2947        1        0         0         1         0         0  \n",
       "2948        0        0         1         0         0         0  \n",
       "2949        0        0         0         1         0         0  \n",
       "2950        0        0         1         0         0         0  \n",
       "2951        1        0         0         1         0         0  \n",
       "\n",
       "[2942 rows x 14 columns]"
      ]
     },
     "execution_count": 68,
     "metadata": {},
     "output_type": "execute_result"
    }
   ],
   "source": [
    "# csv file name\n",
    "file_name = \"3425_data (2).csv\"\n",
    "\n",
    "# read data\n",
    "df = pd.read_csv(file_name)\n",
    "\n",
    "# make a subset of df which has columns that will be used\n",
    "cols = [\"A1\", \"p_gender_sdc\", \"p_age_group_sdc\", \"p_education_sdc\", \"E14\"]\n",
    "df1 = df[cols]\n",
    "\n",
    "# remove any rows with ”NaN”\n",
    "df1 = df1.drop(index=df1.index[df1[\"p_gender_sdc\"]== \"”NaN”\"]).reset_index(drop=True)\n",
    "\n",
    "# remove any rows with -98, -99\n",
    "idx = np.logical_or(df1 == -98, df1 == -99)\n",
    "idx = np.sum(idx, axis=1)\n",
    "df1 = df1.drop(index=idx.index[idx >= 1]).reset_index(drop=True)\n",
    "\n",
    "# remove nans\n",
    "df1 = df1.dropna().reset_index(drop=True)\n",
    "\n",
    "# one-hot encoding for gender\n",
    "df1 = pd.concat([df1, pd.get_dummies(df1[\"p_gender_sdc\"], prefix=\"gender\")], axis=1) \n",
    "df1 = df1.drop(columns=\"p_gender_sdc\")\n",
    "\n",
    "# one-hot encoding for education\n",
    "df1 = pd.concat([df1, pd.get_dummies(df1[\"p_education_sdc\"], prefix=\"edu\")], axis=1) \n",
    "df1 = df1.drop(columns=\"p_education_sdc\")\n",
    "\n",
    "# one-hot encoding for age\n",
    "df1 = pd.concat([df1, pd.get_dummies(df1[\"p_age_group_sdc\"], prefix=\"age\")], axis=1) \n",
    "df1 = df1.drop(columns=\"p_age_group_sdc\")\n",
    "\n",
    "# one-hot encoding for income\n",
    "df1 = pd.concat([df1, pd.get_dummies(df1[\"E14\"], prefix=\"income\")], axis=1) \n",
    "df1 = df1.drop(columns=\"E14\")\n",
    "\n",
    "# combine class 1-2 and 4-5\n",
    "m = {1: 1, 2: 1, 3: 10, 4:2, 5: 2 }\n",
    "df1.A1 = df1.A1.map(m)\n",
    "\n",
    "df1 = df1.loc[df1.A1 != 10, :]\n",
    "\n",
    "# show final df\n",
    "df1"
   ]
  },
  {
   "cell_type": "markdown",
   "id": "daily-shepherd",
   "metadata": {},
   "source": [
    "# Classification using LogReg"
   ]
  },
  {
   "cell_type": "code",
   "execution_count": 69,
   "id": "prostate-translator",
   "metadata": {},
   "outputs": [
    {
     "name": "stdout",
     "output_type": "stream",
     "text": [
      "Fitting 5 folds for each of 70 candidates, totalling 350 fits\n"
     ]
    },
    {
     "name": "stderr",
     "output_type": "stream",
     "text": [
      "[Parallel(n_jobs=-1)]: Using backend LokyBackend with 48 concurrent workers.\n",
      "[Parallel(n_jobs=-1)]: Done 112 tasks      | elapsed:    0.2s\n",
      "[Parallel(n_jobs=-1)]: Done 350 out of 350 | elapsed:    0.7s finished\n"
     ]
    }
   ],
   "source": [
    "# targets\n",
    "y = df1[\"A1\"].values\n",
    "\n",
    "# features\n",
    "X = df1.drop(columns=\"A1\").values\n",
    "\n",
    "# standardize features\n",
    "X = StandardScaler().fit_transform(X)\n",
    "\n",
    "# divide data into training and test\n",
    "X_train, X_test, y_train, y_test = train_test_split(X, y, test_size=0.2, random_state=0, shuffle=True)\n",
    "\n",
    "# over-sample minority class\n",
    "X_train = np.concatenate((X_train, X_train[y_train == 2], X_train[y_train == 2]))\n",
    "y_train = np.concatenate((y_train, y_train[y_train == 2], y_train[y_train == 2]))\n",
    "\n",
    "# use grid search to optimize parameters\n",
    "# classifier\n",
    "clf = LogisticRegression(fit_intercept=True, class_weight=\"balanced\")\n",
    "\n",
    "# values for tuning\n",
    "param = {\"C\": np.logspace(-3,3,7),\n",
    "         \"penalty\": [\"l1\", \"l2\"],\n",
    "         \"solver\": ['newton-cg', 'lbfgs', 'liblinear', 'sag', 'saga']}\n",
    "\n",
    "# fit\n",
    "cv = GridSearchCV(clf, param, cv=5, n_jobs=-1, verbose=1).fit(X_train, y_train)"
   ]
  },
  {
   "cell_type": "markdown",
   "id": "dated-cricket",
   "metadata": {},
   "source": [
    "# Report Accuracy"
   ]
  },
  {
   "cell_type": "code",
   "execution_count": 70,
   "id": "physical-jefferson",
   "metadata": {},
   "outputs": [
    {
     "name": "stdout",
     "output_type": "stream",
     "text": [
      "Accuracy: 0.5857\n"
     ]
    },
    {
     "data": {
      "image/png": "[encoded data removed]",
      "text/plain": [
       "<Figure size 432x288 with 1 Axes>"
      ]
     },
     "metadata": {
      "needs_background": "light"
     },
     "output_type": "display_data"
    },
    {
     "name": "stdout",
     "output_type": "stream",
     "text": [
      "Feature Importance\n",
      "gender_”1” : 0.062\n",
      "gender_”2” : -0.062\n",
      "edu_1 : 0.053\n",
      "edu_2 : -0.039\n",
      "edu_3 : -0.020\n",
      "age_1.0 : 0.101\n",
      "age_2.0 : 0.037\n",
      "age_3.0 : 0.018\n",
      "age_4.0 : -0.123\n",
      "income_1 : -0.151\n",
      "income_2 : 0.018\n",
      "income_3 : 0.069\n",
      "income_4 : 0.152\n"
     ]
    }
   ],
   "source": [
    "y_pred = cv.predict(X_test)\n",
    "print(\"Accuracy: {:.4f}\".format(accuracy_score(y_test, y_pred)))\n",
    "\n",
    "# show feature importance\n",
    "plt.bar(df1.columns[1:], cv.best_estimator_.coef_[0])\n",
    "plt.xticks(rotation='vertical')\n",
    "plt.title(\"Feature Importance\")\n",
    "plt.show()\n",
    "\n",
    "\n",
    "# print feature importance\n",
    "print(\"Feature Importance\")\n",
    "for i, importance in enumerate(cv.best_estimator_.coef_[0]):\n",
    "    print(df1.columns[i+1], \": {:.3f}\".format(importance))"
   ]
  },
  {
   "cell_type": "markdown",
   "id": "adopted-trader",
   "metadata": {},
   "source": [
    "# Classification Using Decision Trees"
   ]
  },
  {
   "cell_type": "code",
   "execution_count": 71,
   "id": "leading-product",
   "metadata": {
    "scrolled": true
   },
   "outputs": [
    {
     "name": "stdout",
     "output_type": "stream",
     "text": [
      "Fitting 5 folds for each of 1000 candidates, totalling 5000 fits\n"
     ]
    },
    {
     "name": "stderr",
     "output_type": "stream",
     "text": [
      "[Parallel(n_jobs=-1)]: Using backend LokyBackend with 48 concurrent workers.\n",
      "[Parallel(n_jobs=-1)]: Done 112 tasks      | elapsed:    0.2s\n",
      "[Parallel(n_jobs=-1)]: Done 1200 tasks      | elapsed:    0.9s\n",
      "[Parallel(n_jobs=-1)]: Done 4640 tasks      | elapsed:    1.8s\n",
      "[Parallel(n_jobs=-1)]: Done 5000 out of 5000 | elapsed:    2.1s finished\n"
     ]
    }
   ],
   "source": [
    "# classifier\n",
    "clf = DecisionTreeClassifier()\n",
    "\n",
    "# values tuning\n",
    "param = {\"criterion\": [\"gini\", \"entropy\"],\n",
    "         \"max_depth\": np.arange(1, 11),\n",
    "         \"min_samples_split\": np.arange(1, 11),\n",
    "         \"min_samples_leaf\": np.arange(1, 6)}\n",
    "\n",
    "# fit\n",
    "cv = GridSearchCV(clf, param, cv=5, n_jobs=-1, verbose=1).fit(X_train, y_train)"
   ]
  },
  {
   "cell_type": "markdown",
   "id": "unlike-german",
   "metadata": {},
   "source": [
    "# Report Accuracy"
   ]
  },
  {
   "cell_type": "code",
   "execution_count": 72,
   "id": "oriented-locator",
   "metadata": {
    "scrolled": false
   },
   "outputs": [
    {
     "name": "stdout",
     "output_type": "stream",
     "text": [
      "Accuracy: 0.6095\n"
     ]
    },
    {
     "data": {
      "image/png": "[encoded data removed]",
      "text/plain": [
       "<Figure size 432x288 with 1 Axes>"
      ]
     },
     "metadata": {
      "needs_background": "light"
     },
     "output_type": "display_data"
    },
    {
     "name": "stdout",
     "output_type": "stream",
     "text": [
      "gender_”1” : 0.070\n",
      "gender_”2” : 0.019\n",
      "edu_1 : 0.099\n",
      "edu_2 : 0.074\n",
      "edu_3 : 0.092\n",
      "age_1.0 : 0.180\n",
      "age_2.0 : 0.071\n",
      "age_3.0 : 0.019\n",
      "age_4.0 : 0.093\n",
      "income_1 : 0.146\n",
      "income_2 : 0.026\n",
      "income_3 : 0.019\n",
      "income_4 : 0.091\n"
     ]
    }
   ],
   "source": [
    "y_pred = cv.predict(X_test)\n",
    "print(\"Accuracy: {:.4f}\".format(accuracy_score(y_test, y_pred)))\n",
    "\n",
    "# show feature importance\n",
    "plt.bar(df1.columns[1:], cv.best_estimator_.feature_importances_)\n",
    "plt.xticks(rotation='vertical')\n",
    "plt.title(\"Feature Importance\")\n",
    "plt.show()\n",
    "\n",
    "# print feature importance\n",
    "for i, importance in enumerate(cv.best_estimator_.feature_importances_):\n",
    "    print(df1.columns[i+1], \": {:.3f}\".format(importance))"
   ]
  },
  {
   "cell_type": "markdown",
   "id": "limiting-atlantic",
   "metadata": {},
   "source": [
    "# Classification using Gradient Boosting"
   ]
  },
  {
   "cell_type": "code",
   "execution_count": 73,
   "id": "meaning-daisy",
   "metadata": {},
   "outputs": [
    {
     "name": "stderr",
     "output_type": "stream",
     "text": [
      "[Parallel(n_jobs=-1)]: Using backend LokyBackend with 48 concurrent workers.\n"
     ]
    },
    {
     "name": "stdout",
     "output_type": "stream",
     "text": [
      "Fitting 5 folds for each of 30 candidates, totalling 150 fits\n"
     ]
    },
    {
     "name": "stderr",
     "output_type": "stream",
     "text": [
      "[Parallel(n_jobs=-1)]: Done 150 out of 150 | elapsed:    1.2s finished\n"
     ]
    }
   ],
   "source": [
    "# classifier\n",
    "clf = GradientBoostingClassifier()\n",
    "\n",
    "# values tuning\n",
    "param = {'max_depth':range(5,16,2), 'min_samples_split':range(200,1001,200)}\n",
    "\n",
    "# fit\n",
    "cv = GridSearchCV(clf, param, cv=5, n_jobs=-1, verbose=1).fit(X_train, y_train)"
   ]
  },
  {
   "cell_type": "markdown",
   "id": "convinced-fault",
   "metadata": {},
   "source": [
    "# Report Accuracy"
   ]
  },
  {
   "cell_type": "code",
   "execution_count": 74,
   "id": "derived-output",
   "metadata": {},
   "outputs": [
    {
     "name": "stdout",
     "output_type": "stream",
     "text": [
      "Accuracy: 0.6163\n"
     ]
    },
    {
     "data": {
      "image/png": "[encoded data removed]",
      "text/plain": [
       "<Figure size 432x288 with 1 Axes>"
      ]
     },
     "metadata": {
      "needs_background": "light"
     },
     "output_type": "display_data"
    },
    {
     "name": "stdout",
     "output_type": "stream",
     "text": [
      "gender_”1” : 0.044\n",
      "gender_”2” : 0.052\n",
      "edu_1 : 0.075\n",
      "edu_2 : 0.040\n",
      "edu_3 : 0.066\n",
      "age_1.0 : 0.185\n",
      "age_2.0 : 0.049\n",
      "age_3.0 : 0.060\n",
      "age_4.0 : 0.092\n",
      "income_1 : 0.151\n",
      "income_2 : 0.055\n",
      "income_3 : 0.027\n",
      "income_4 : 0.105\n"
     ]
    }
   ],
   "source": [
    "y_pred = cv.predict(X_test)\n",
    "print(\"Accuracy: {:.4f}\".format(accuracy_score(y_test, y_pred)))\n",
    "\n",
    "# show feature importance\n",
    "plt.bar(df1.columns[1:], cv.best_estimator_.feature_importances_)\n",
    "plt.xticks(rotation='vertical')\n",
    "plt.title(\"Feature Importance\")\n",
    "plt.show()\n",
    "\n",
    "# print feature importance\n",
    "for i, importance in enumerate(cv.best_estimator_.feature_importances_):\n",
    "    print(df1.columns[i+1], \": {:.3f}\".format(importance))"
   ]
  }
 ],
 "metadata": {
  "kernelspec": {
   "display_name": "Python 3",
   "language": "python",
   "name": "python3"
  },
  "language_info": {
   "codemirror_mode": {
    "name": "ipython",
    "version": 3
   },
   "file_extension": ".py",
   "mimetype": "text/x-python",
   "name": "python",
   "nbconvert_exporter": "python",
   "pygments_lexer": "ipython3",
   "version": "3.8.3"
  },
  "varInspector": {
   "cols": {
    "lenName": 16,
    "lenType": 16,
    "lenVar": 40
   },
   "kernels_config": {
    "python": {
     "delete_cmd_postfix": "",
     "delete_cmd_prefix": "del ",
     "library": "var_list.py",
     "varRefreshCmd": "print(var_dic_list())"
    },
    "r": {
     "delete_cmd_postfix": ") ",
     "delete_cmd_prefix": "rm(",
     "library": "var_list.r",
     "varRefreshCmd": "cat(var_dic_list()) "
    }
   },
   "position": {
    "height": "144px",
    "left": "1013px",
    "right": "20px",
    "top": "118px",
    "width": "350px"
   },
   "types_to_exclude": [
    "module",
    "function",
    "builtin_function_or_method",
    "instance",
    "_Feature"
   ],
   "window_display": false
  }
 },
 "nbformat": 4,
 "nbformat_minor": 5
}
